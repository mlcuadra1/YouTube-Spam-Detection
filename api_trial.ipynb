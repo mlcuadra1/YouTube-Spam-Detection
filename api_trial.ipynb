{
 "cells": [
  {
   "cell_type": "code",
   "execution_count": 1,
   "metadata": {},
   "outputs": [],
   "source": [
    "file = open(\"api_key.txt\", \"r\")\n",
    "api_key = file.read()\n",
    "file.close()"
   ]
  },
  {
   "cell_type": "code",
   "execution_count": 2,
   "metadata": {},
   "outputs": [],
   "source": [
    "import numpy as np"
   ]
  },
  {
   "cell_type": "code",
   "execution_count": 3,
   "metadata": {},
   "outputs": [],
   "source": [
    "from googleapiclient.discovery import build"
   ]
  },
  {
   "cell_type": "code",
   "execution_count": 4,
   "metadata": {},
   "outputs": [],
   "source": [
    "import urllib.request\n",
    "import json\n",
    "import urllib"
   ]
  },
  {
   "cell_type": "code",
   "execution_count": 5,
   "metadata": {},
   "outputs": [],
   "source": [
    "video_id = \"_OKAwz2MsJs\""
   ]
  },
  {
   "cell_type": "code",
   "execution_count": 6,
   "metadata": {},
   "outputs": [],
   "source": [
    "def get_comment_threads(youtube, video_id):\n",
    "  results = youtube.commentThreads().list(\n",
    "    part=\"snippet\",\n",
    "    videoId=video_id,\n",
    "    textFormat=\"plainText\"\n",
    "  ).execute()\n",
    "\n",
    "  for item in results[\"items\"]:\n",
    "    comment = item[\"snippet\"][\"topLevelComment\"]\n",
    "    author = comment[\"snippet\"][\"authorDisplayName\"]\n",
    "    text = comment[\"snippet\"][\"textDisplay\"]\n",
    "    # print(\"Comment by %s: %s\" % (author, text))\n",
    "\n",
    "  return results[\"items\"]"
   ]
  },
  {
   "cell_type": "code",
   "execution_count": 7,
   "metadata": {},
   "outputs": [],
   "source": [
    "# Call the API's comments.list method to list the existing comment replies.\n",
    "def get_comments(youtube, parent_id):\n",
    "  \n",
    "  results = youtube.comments().list(\n",
    "    part=\"snippet\",\n",
    "    parentId=parent_id,\n",
    "    textFormat=\"plainText\"\n",
    "  ).execute()\n",
    "\n",
    "  for item in results[\"items\"]:\n",
    "    author = item[\"snippet\"][\"authorDisplayName\"]\n",
    "    text = item[\"snippet\"][\"textDisplay\"]\n",
    "    # print(\"Comment by %s: %s\" % (author, text))\n",
    "\n",
    "  return results[\"items\"]"
   ]
  },
  {
   "cell_type": "code",
   "execution_count": 8,
   "metadata": {},
   "outputs": [],
   "source": [
    "youtube = build('youtube', 'v3', developerKey=api_key)\n",
    "video_comment_threads = get_comment_threads(youtube, video_id)\n",
    "parent_id = video_comment_threads[0][\"id\"]"
   ]
  },
  {
   "cell_type": "code",
   "execution_count": 9,
   "metadata": {},
   "outputs": [
    {
     "data": {
      "text/plain": [
       "{'kind': 'youtube#commentThread',\n",
       " 'etag': 'O7xuM3JSj3lWAn6M4Eth86zuQ9c',\n",
       " 'id': 'Ugzbi0wrWbMCVknS3Lp4AaABAg',\n",
       " 'snippet': {'channelId': 'UCjmJDM5pRKbUlVIzDYYWb6g',\n",
       "  'videoId': '_OKAwz2MsJs',\n",
       "  'topLevelComment': {'kind': 'youtube#comment',\n",
       "   'etag': '1GojGUdOEo-Hvxrrfr3WYSGSf50',\n",
       "   'id': 'Ugzbi0wrWbMCVknS3Lp4AaABAg',\n",
       "   'snippet': {'channelId': 'UCjmJDM5pRKbUlVIzDYYWb6g',\n",
       "    'videoId': '_OKAwz2MsJs',\n",
       "    'textDisplay': 'This trailer is insane!. 🤯🔥❤️',\n",
       "    'textOriginal': 'This trailer is insane!. 🤯🔥❤️',\n",
       "    'authorDisplayName': '@euanberesford9974',\n",
       "    'authorProfileImageUrl': 'https://yt3.ggpht.com/ytc/AIdro_nj7PAq489rI6NHK471MkFocojz6YJXKcDqEE2K1NQlj-I_sNgBPBPSsnyomX85OyBptw=s48-c-k-c0x00ffffff-no-rj',\n",
       "    'authorChannelUrl': 'http://www.youtube.com/@euanberesford9974',\n",
       "    'authorChannelId': {'value': 'UCFD_rzt2W02A2uPg0gEIrxA'},\n",
       "    'canRate': True,\n",
       "    'viewerRating': 'none',\n",
       "    'likeCount': 0,\n",
       "    'publishedAt': '2024-07-24T18:17:11Z',\n",
       "    'updatedAt': '2024-07-24T18:17:11Z'}},\n",
       "  'canReply': True,\n",
       "  'totalReplyCount': 0,\n",
       "  'isPublic': True}}"
      ]
     },
     "execution_count": 9,
     "metadata": {},
     "output_type": "execute_result"
    }
   ],
   "source": [
    "video_comment_threads[0]"
   ]
  },
  {
   "cell_type": "code",
   "execution_count": 10,
   "metadata": {},
   "outputs": [],
   "source": [
    "comment_dict_list = []\n",
    "for i in range(len(video_comment_threads)):\n",
    "    comment_dict = {\n",
    "        'comment': video_comment_threads[i]['snippet']['topLevelComment']['snippet']['textDisplay'],\n",
    "        'username': video_comment_threads[i]['snippet']['topLevelComment']['snippet']['authorDisplayName'],\n",
    "        'viewer_rating': video_comment_threads[i]['snippet']['topLevelComment']['snippet']['viewerRating'],\n",
    "        'comment_likes': video_comment_threads[i]['snippet']['topLevelComment']['snippet']['likeCount'],\n",
    "        'comment_datetime': video_comment_threads[i]['snippet']['topLevelComment']['snippet']['updatedAt']\n",
    "    }\n",
    "    comment_dict_list.append(comment_dict)"
   ]
  },
  {
   "cell_type": "code",
   "execution_count": 11,
   "metadata": {},
   "outputs": [
    {
     "data": {
      "text/plain": [
       "[{'comment': 'This trailer is insane!. 🤯🔥❤️',\n",
       "  'username': '@euanberesford9974',\n",
       "  'viewer_rating': 'none',\n",
       "  'comment_likes': 0,\n",
       "  'comment_datetime': '2024-07-24T18:17:11Z'},\n",
       " {'comment': 'We want joker in Telugu badly 😢',\n",
       "  'username': '@chill549',\n",
       "  'viewer_rating': 'none',\n",
       "  'comment_likes': 0,\n",
       "  'comment_datetime': '2024-07-24T18:16:55Z'},\n",
       " {'comment': \"I don't think Joker needed a sequel, but I am interested.\",\n",
       "  'username': '@PrichOp789',\n",
       "  'viewer_rating': 'none',\n",
       "  'comment_likes': 0,\n",
       "  'comment_datetime': '2024-07-24T18:16:33Z'},\n",
       " {'comment': 'I love it gonna be a great movie',\n",
       "  'username': '@tishamedina5335',\n",
       "  'viewer_rating': 'none',\n",
       "  'comment_likes': 1,\n",
       "  'comment_datetime': '2024-07-24T18:15:22Z'},\n",
       " {'comment': 'best wishesj for your movie 🤩🤩💥💥✨',\n",
       "  'username': '@sifankhanturk7086',\n",
       "  'viewer_rating': 'none',\n",
       "  'comment_likes': 1,\n",
       "  'comment_datetime': '2024-07-24T18:14:47Z'},\n",
       " {'comment': 'very exited for your movie 🤩🤩🤩💥💥✨✨✨😇😇🤩💥🤩',\n",
       "  'username': '@sifankhanturk7086',\n",
       "  'viewer_rating': 'none',\n",
       "  'comment_likes': 1,\n",
       "  'comment_datetime': '2024-07-24T18:14:30Z'},\n",
       " {'comment': \"Doesn't look like its going to be good\",\n",
       "  'username': '@MrJimmy3459',\n",
       "  'viewer_rating': 'none',\n",
       "  'comment_likes': 1,\n",
       "  'comment_datetime': '2024-07-24T18:13:56Z'},\n",
       " {'comment': 'This does not look great to me. Bet it’s going to be a great dissapointment just like with Barbie.',\n",
       "  'username': '@claudiuprichici4028',\n",
       "  'viewer_rating': 'none',\n",
       "  'comment_likes': 1,\n",
       "  'comment_datetime': '2024-07-24T18:13:30Z'},\n",
       " {'comment': 'I am absolutely here for the chaos this movie is going to give off. Perfect for those two characters. Can’t wait.',\n",
       "  'username': '@TheNBAfan101',\n",
       "  'viewer_rating': 'none',\n",
       "  'comment_likes': 0,\n",
       "  'comment_datetime': '2024-07-24T18:13:24Z'},\n",
       " {'comment': '😂😂😂😂😂😂😂😂😂😂😂😂😂😂😂😂😂😂😂😂😂 Laughing maniacally because this sequel just looks so good...damn it give Joaquin another Oscar and give one to Gaga too',\n",
       "  'username': '@terrygyimah1956',\n",
       "  'viewer_rating': 'none',\n",
       "  'comment_likes': 1,\n",
       "  'comment_datetime': '2024-07-24T18:12:41Z'},\n",
       " {'comment': 'Seems pretentious.',\n",
       "  'username': '@niyor3608',\n",
       "  'viewer_rating': 'none',\n",
       "  'comment_likes': 1,\n",
       "  'comment_datetime': '2024-07-24T18:12:30Z'},\n",
       " {'comment': '😂😂😂😂😂🎉😂😂😂',\n",
       "  'username': '@shaamabdullaahi6492',\n",
       "  'viewer_rating': 'none',\n",
       "  'comment_likes': 0,\n",
       "  'comment_datetime': '2024-07-24T18:11:59Z'},\n",
       " {'comment': 'Hope its good but this just looks like an easy money grab from Hollywood',\n",
       "  'username': '@MrJjhighhat',\n",
       "  'viewer_rating': 'none',\n",
       "  'comment_likes': 1,\n",
       "  'comment_datetime': '2024-07-24T18:11:31Z'},\n",
       " {'comment': 'You may see a jewell here, but i am seeing a mess, hopefully at the end I am wrong.',\n",
       "  'username': '@juanfigueroa4989',\n",
       "  'viewer_rating': 'none',\n",
       "  'comment_likes': 1,\n",
       "  'comment_datetime': '2024-07-24T18:10:18Z'},\n",
       " {'comment': 'Hmm.. Robert Pattinson will be here soon! The trailer kind of relates same font styles.',\n",
       "  'username': '@melvintkq1990',\n",
       "  'viewer_rating': 'none',\n",
       "  'comment_likes': 1,\n",
       "  'comment_datetime': '2024-07-24T18:10:16Z'},\n",
       " {'comment': '“Shippers” the movie',\n",
       "  'username': '@baronoflight',\n",
       "  'viewer_rating': 'none',\n",
       "  'comment_likes': 0,\n",
       "  'comment_datetime': '2024-07-24T18:09:41Z'},\n",
       " {'comment': 'Gonna be mid like the first one. People so desperate to love this title',\n",
       "  'username': '@IxDarkxNinjaxI',\n",
       "  'viewer_rating': 'none',\n",
       "  'comment_likes': 0,\n",
       "  'comment_datetime': '2024-07-24T18:09:11Z'},\n",
       " {'comment': 'first i was thinking that that is Lady Gaga, but guess i was wrong',\n",
       "  'username': '@DenisFiloniuk',\n",
       "  'viewer_rating': 'none',\n",
       "  'comment_likes': 0,\n",
       "  'comment_datetime': '2024-07-24T18:08:26Z'},\n",
       " {'comment': 'This is my Harley Quinn',\n",
       "  'username': '@alexvanluit3231',\n",
       "  'viewer_rating': 'none',\n",
       "  'comment_likes': 0,\n",
       "  'comment_datetime': '2024-07-24T18:08:04Z'},\n",
       " {'comment': '\"Get Happy\" is the song at the end by Judy Garland. Her video from Summer Stock in 1950 fits well.',\n",
       "  'username': '@kjsilent',\n",
       "  'viewer_rating': 'none',\n",
       "  'comment_likes': 0,\n",
       "  'comment_datetime': '2024-07-24T18:06:00Z'}]"
      ]
     },
     "execution_count": 11,
     "metadata": {},
     "output_type": "execute_result"
    }
   ],
   "source": [
    "comment_dict_list"
   ]
  },
  {
   "cell_type": "code",
   "execution_count": 10,
   "metadata": {
    "jupyter": {
     "source_hidden": true
    }
   },
   "outputs": [
    {
     "ename": "TypeError",
     "evalue": "Got an unexpected keyword argument videoId",
     "output_type": "error",
     "traceback": [
      "\u001b[1;31m---------------------------------------------------------------------------\u001b[0m",
      "\u001b[1;31mTypeError\u001b[0m                                 Traceback (most recent call last)",
      "Cell \u001b[1;32mIn[10], line 64\u001b[0m\n\u001b[0;32m     61\u001b[0m video_id \u001b[38;5;241m=\u001b[39m \u001b[38;5;124m\"\u001b[39m\u001b[38;5;124m_OKAwz2MsJs\u001b[39m\u001b[38;5;124m\"\u001b[39m\n\u001b[0;32m     63\u001b[0m \u001b[38;5;66;03m# Call function\u001b[39;00m\n\u001b[1;32m---> 64\u001b[0m \u001b[43mvideo_comments\u001b[49m\u001b[43m(\u001b[49m\u001b[43mvideo_id\u001b[49m\u001b[43m)\u001b[49m\n",
      "Cell \u001b[1;32mIn[10], line 8\u001b[0m, in \u001b[0;36mvideo_comments\u001b[1;34m(video_id)\u001b[0m\n\u001b[0;32m      5\u001b[0m youtube \u001b[38;5;241m=\u001b[39m build(\u001b[38;5;124m'\u001b[39m\u001b[38;5;124myoutube\u001b[39m\u001b[38;5;124m'\u001b[39m, \u001b[38;5;124m'\u001b[39m\u001b[38;5;124mv3\u001b[39m\u001b[38;5;124m'\u001b[39m, developerKey\u001b[38;5;241m=\u001b[39mapi_key)\n\u001b[0;32m      7\u001b[0m \u001b[38;5;66;03m# retrieve youtube video results\u001b[39;00m\n\u001b[1;32m----> 8\u001b[0m video_response\u001b[38;5;241m=\u001b[39m\u001b[43myoutube\u001b[49m\u001b[38;5;241;43m.\u001b[39;49m\u001b[43mcomments\u001b[49m\u001b[43m(\u001b[49m\u001b[43m)\u001b[49m\u001b[38;5;241;43m.\u001b[39;49m\u001b[43mlist\u001b[49m\u001b[43m(\u001b[49m\n\u001b[0;32m      9\u001b[0m \u001b[43m\u001b[49m\u001b[43mpart\u001b[49m\u001b[38;5;241;43m=\u001b[39;49m\u001b[38;5;124;43m'\u001b[39;49m\u001b[38;5;124;43msnippet\u001b[39;49m\u001b[38;5;124;43m'\u001b[39;49m\u001b[43m,\u001b[49m\n\u001b[0;32m     10\u001b[0m \u001b[43m\u001b[49m\u001b[43mvideoId\u001b[49m\u001b[38;5;241;43m=\u001b[39;49m\u001b[43mvideo_id\u001b[49m\n\u001b[0;32m     11\u001b[0m \u001b[43m\u001b[49m\u001b[43m)\u001b[49m\u001b[38;5;241m.\u001b[39mexecute()\n",
      "File \u001b[1;32m~\\Documents\\GitHub\\YouTube-Spam-Detection\\env\\Lib\\site-packages\\googleapiclient\\discovery.py:1099\u001b[0m, in \u001b[0;36mcreateMethod.<locals>.method\u001b[1;34m(self, **kwargs)\u001b[0m\n\u001b[0;32m   1097\u001b[0m \u001b[38;5;28;01mfor\u001b[39;00m name \u001b[38;5;129;01min\u001b[39;00m kwargs:\n\u001b[0;32m   1098\u001b[0m     \u001b[38;5;28;01mif\u001b[39;00m name \u001b[38;5;129;01mnot\u001b[39;00m \u001b[38;5;129;01min\u001b[39;00m parameters\u001b[38;5;241m.\u001b[39margmap:\n\u001b[1;32m-> 1099\u001b[0m         \u001b[38;5;28;01mraise\u001b[39;00m \u001b[38;5;167;01mTypeError\u001b[39;00m(\u001b[38;5;124m\"\u001b[39m\u001b[38;5;124mGot an unexpected keyword argument \u001b[39m\u001b[38;5;132;01m{}\u001b[39;00m\u001b[38;5;124m\"\u001b[39m\u001b[38;5;241m.\u001b[39mformat(name))\n\u001b[0;32m   1101\u001b[0m \u001b[38;5;66;03m# Remove args that have a value of None.\u001b[39;00m\n\u001b[0;32m   1102\u001b[0m keys \u001b[38;5;241m=\u001b[39m \u001b[38;5;28mlist\u001b[39m(kwargs\u001b[38;5;241m.\u001b[39mkeys())\n",
      "\u001b[1;31mTypeError\u001b[0m: Got an unexpected keyword argument videoId"
     ]
    }
   ],
   "source": [
    "def video_comments(video_id):\n",
    "\treplies = []\n",
    "\n",
    "\t# creating youtube resource object\n",
    "\tyoutube = build('youtube', 'v3', developerKey=api_key)\n",
    "\n",
    "\t# retrieve youtube video results\n",
    "\tvideo_response=youtube.comments().list(\n",
    "\tpart='snippet',\n",
    "\tvideoId=video_id\n",
    "\t).execute()\n",
    "\n",
    "\t# # iterate video response\n",
    "\t# count = 0\n",
    "\t# max_count = 1\n",
    "\t# while video_response and count < max_count:\n",
    "\t# \t# extracting required info\n",
    "\t# \t# from each result object \n",
    "\n",
    "\t# \tfor item in video_response['items']:\n",
    "\t\t\t\n",
    "\t\t\t\n",
    "\t# \t\t# Extracting comments\n",
    "\t# \t\tcomment = item['snippet']['topLevelComment']['snippet']['textDisplay']\n",
    "\t# \t\tcount += 1\n",
    "\n",
    "\t# \t\t# counting number of reply of comment\n",
    "\t# \t\treplycount = item['snippet']['totalReplyCount']\n",
    "\n",
    "\t# \t\t# if reply is there\n",
    "\t# \t\tif replycount>0:\n",
    "\t\t\t\n",
    "\t# \t\t\t# iterate through all reply\n",
    "\t# \t\t\tfor reply in item['replies']['comments']:\n",
    "\t\t\t\t\n",
    "\t# \t\t\t\t# Extract reply\n",
    "\t# \t\t\t\treply = reply['snippet']['textDisplay']\n",
    "\t\t\t\t\t\n",
    "\t# \t\t\t\t# Store reply in list\n",
    "\t# \t\t\t\treplies.append(reply)\n",
    "\t\t\t\t\t\n",
    "\n",
    "\t# \t\t# print comment with list of reply\n",
    "\t# \t\tprint(count, comment, replies, end = '\\n\\n')\n",
    "\n",
    "\t# \t\t# empty reply list\n",
    "\t# \t\treplies = []\n",
    "\n",
    "\t# \t# Again repeat\n",
    "\t# \tif 'nextPageToken' in video_response:\n",
    "\t# \t\tvideo_response = youtube.commentThreads().list(\n",
    "\t# \t\t\t\tpart = 'snippet,replies',\n",
    "\t# \t\t\t\tvideoId = video_id,\n",
    "\t# \t\t\t\tpageToken = video_response['nextPageToken']\n",
    "\t# \t\t\t).execute()\n",
    "\t# \telse:\n",
    "\t# \t\tbreak\n",
    "\t# return video_response\n",
    "\n",
    "# Enter video id\n",
    "video_id = \"_OKAwz2MsJs\"\n",
    "\n",
    "# Call function\n",
    "video_comments(video_id)\n"
   ]
  },
  {
   "cell_type": "code",
   "execution_count": 11,
   "metadata": {},
   "outputs": [
    {
     "data": {
      "text/plain": [
       "{'video_datetime': '2024-07-23T13:00:29Z',\n",
       " 'video_title': 'Joker: Folie À Deux | Official Trailer',\n",
       " 'channel_name': 'Warner Bros. Pictures',\n",
       " 'video_category': '1',\n",
       " 'video_length': 'PT2M51S',\n",
       " 'view_count': '13230834',\n",
       " 'like_count': '396517'}"
      ]
     },
     "execution_count": 11,
     "metadata": {},
     "output_type": "execute_result"
    }
   ],
   "source": [
    "def get_video_info(video_id):\n",
    "    # Build the YouTube service\n",
    "    youtube = build('youtube', 'v3', developerKey=api_key)\n",
    "    \n",
    "    # Request video information\n",
    "    request = youtube.videos().list(\n",
    "        part=\"snippet,contentDetails,statistics\",\n",
    "        id=video_id\n",
    "    )\n",
    "    response = request.execute()\n",
    "\n",
    "    response_dict = {\n",
    "        'video_datetime': response['items'][0]['snippet']['publishedAt'],\n",
    "        'video_title': response['items'][0]['snippet']['title'],\n",
    "        'channel_name': response['items'][0]['snippet']['channelTitle'],\n",
    "        'video_category': response['items'][0]['snippet']['categoryId'],\n",
    "        'video_length': response['items'][0]['contentDetails']['duration'],\n",
    "        'view_count': response['items'][0]['statistics']['viewCount'],\n",
    "        'like_count': response['items'][0]['statistics']['likeCount']\n",
    "    }\n",
    "    \n",
    "    return response_dict\n",
    "\n",
    "video_id = \"_OKAwz2MsJs\"\n",
    "get_video_info(video_id)"
   ]
  },
  {
   "cell_type": "code",
   "execution_count": null,
   "metadata": {},
   "outputs": [],
   "source": []
  }
 ],
 "metadata": {
  "kernelspec": {
   "display_name": "Python 3 (ipykernel)",
   "language": "python",
   "name": "python3"
  },
  "language_info": {
   "codemirror_mode": {
    "name": "ipython",
    "version": 3
   },
   "file_extension": ".py",
   "mimetype": "text/x-python",
   "name": "python",
   "nbconvert_exporter": "python",
   "pygments_lexer": "ipython3",
   "version": "3.11.1"
  }
 },
 "nbformat": 4,
 "nbformat_minor": 4
}
