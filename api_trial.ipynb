{
 "cells": [
  {
   "cell_type": "code",
   "execution_count": 1,
   "metadata": {},
   "outputs": [],
   "source": [
    "file = open(\"api_key.txt\", \"r\")\n",
    "api_key = file.read()\n",
    "file.close()"
   ]
  },
  {
   "cell_type": "code",
   "execution_count": 2,
   "metadata": {},
   "outputs": [],
   "source": [
    "import numpy as np"
   ]
  },
  {
   "cell_type": "code",
   "execution_count": 3,
   "metadata": {},
   "outputs": [],
   "source": [
    "from googleapiclient.discovery import build"
   ]
  },
  {
   "cell_type": "code",
   "execution_count": 4,
   "metadata": {},
   "outputs": [],
   "source": [
    "import urllib.request\n",
    "import json\n",
    "import urllib"
   ]
  },
  {
   "cell_type": "code",
   "execution_count": 12,
   "metadata": {},
   "outputs": [],
   "source": [
    "# video_id = \"_OKAwz2MsJs\"\n",
    "video_id = \"UMDv7gtqBYQ\""
   ]
  },
  {
   "cell_type": "code",
   "execution_count": 28,
   "metadata": {},
   "outputs": [],
   "source": [
    "def get_comment_threads(youtube, video_id):\n",
    "  results = youtube.commentThreads().list(\n",
    "    part=\"snippet\",\n",
    "    videoId=video_id,\n",
    "    order='relevance',\n",
    "    textFormat=\"plainText\"\n",
    "  ).execute()\n",
    "\n",
    "  for item in results[\"items\"]:\n",
    "    comment = item[\"snippet\"][\"topLevelComment\"]\n",
    "    author = comment[\"snippet\"][\"authorDisplayName\"]\n",
    "    text = comment[\"snippet\"][\"textDisplay\"]\n",
    "    # print(\"Comment by %s: %s\" % (author, text))\n",
    "\n",
    "  return results[\"items\"]"
   ]
  },
  {
   "cell_type": "code",
   "execution_count": 29,
   "metadata": {},
   "outputs": [],
   "source": [
    "# Call the API's comments.list method to list the existing comment replies.\n",
    "def get_comments(youtube, parent_id):\n",
    "  \n",
    "  results = youtube.comments().list(\n",
    "    part=\"snippet\",\n",
    "    parentId=parent_id,\n",
    "    textFormat=\"plainText\"\n",
    "  ).execute()\n",
    "\n",
    "  for item in results[\"items\"]:\n",
    "    author = item[\"snippet\"][\"authorDisplayName\"]\n",
    "    text = item[\"snippet\"][\"textDisplay\"]\n",
    "    # print(\"Comment by %s: %s\" % (author, text))\n",
    "\n",
    "  return results[\"items\"]"
   ]
  },
  {
   "cell_type": "code",
   "execution_count": 30,
   "metadata": {},
   "outputs": [],
   "source": [
    "youtube = build('youtube', 'v3', developerKey=api_key)\n",
    "video_comment_threads = get_comment_threads(youtube, video_id)\n",
    "parent_id = video_comment_threads[0][\"id\"]"
   ]
  },
  {
   "cell_type": "code",
   "execution_count": null,
   "metadata": {},
   "outputs": [],
   "source": [
    "video_comment_threads"
   ]
  },
  {
   "cell_type": "code",
   "execution_count": 35,
   "metadata": {},
   "outputs": [
    {
     "data": {
      "text/plain": [
       "[{'kind': 'youtube#comment',\n",
       "  'etag': '947Hg-V40SzVsTC1oJPO1fv0A_g',\n",
       "  'id': 'UgymsICNSNQ-MzMaDkR4AaABAg.A6I-3ENEgb1A6IJ1Sna2AM',\n",
       "  'snippet': {'channelId': 'UC-lHJZR3Gqxm24_Vd_AJ5Yw',\n",
       "   'textDisplay': \"Didn't read your comment, but I posted a\\n\\u202c\\u202d\\u202etuoba gniyrc namow a fo oediv suoiralih \\n\\u202c\\u202d\\u202eym\\u200e esuaceb\\u200e nwod\\u200e tup\\u200e gnieb\\u200e god\\u200e reh\\nvideos\\u200e are\\u200e bet\\u200eter\\u200e 🤣!.. . ......\",\n",
       "   'textOriginal': \"Didn't read your comment, but I posted a\\n\\u202c\\u202d\\u202etuoba gniyrc namow a fo oediv suoiralih \\n\\u202c\\u202d\\u202eym\\u200e esuaceb\\u200e nwod\\u200e tup\\u200e gnieb\\u200e god\\u200e reh\\nvideos\\u200e are\\u200e bet\\u200eter\\u200e 🤣!.. . ......\",\n",
       "   'parentId': 'UgymsICNSNQ-MzMaDkR4AaABAg',\n",
       "   'authorDisplayName': '@Joseph_14441',\n",
       "   'authorProfileImageUrl': 'https://yt3.ggpht.com/-ztI0R7AC-qMJ4nksihJkfqzumGxdOT0q93GPTOlhegwIaXw4_5hJIs1zGFd2h4dfILmtIf4=s48-c-k-c0x00ffffff-no-rj',\n",
       "   'authorChannelUrl': 'http://www.youtube.com/@Joseph_14441',\n",
       "   'authorChannelId': {'value': 'UCnpT84Prp_JkLJWiI1VlEdQ'},\n",
       "   'canRate': True,\n",
       "   'viewerRating': 'none',\n",
       "   'likeCount': 0,\n",
       "   'publishedAt': '2024-07-25T00:08:06Z',\n",
       "   'updatedAt': '2024-07-25T00:08:06Z'}},\n",
       " {'kind': 'youtube#comment',\n",
       "  'etag': 'mOe2CGH--S4zGdLuwIuOSWwH824',\n",
       "  'id': 'UgymsICNSNQ-MzMaDkR4AaABAg.A6I-3ENEgb1A6IJ1lF9eR1',\n",
       "  'snippet': {'channelId': 'UC-lHJZR3Gqxm24_Vd_AJ5Yw',\n",
       "   'textDisplay': \"Don't translate.. डेज़ीज़ डिस्ट्रक्शन इस वीडियो से कहीं बेहतर है, उम्र केवल संख्याएं हैं और बच्चे सहमति दे सकते हैं! .... .\",\n",
       "   'textOriginal': \"Don't translate.. डेज़ीज़ डिस्ट्रक्शन इस वीडियो से कहीं बेहतर है, उम्र केवल संख्याएं हैं और बच्चे सहमति दे सकते हैं! .... .\",\n",
       "   'parentId': 'UgymsICNSNQ-MzMaDkR4AaABAg',\n",
       "   'authorDisplayName': '@Joseph_14441',\n",
       "   'authorProfileImageUrl': 'https://yt3.ggpht.com/-ztI0R7AC-qMJ4nksihJkfqzumGxdOT0q93GPTOlhegwIaXw4_5hJIs1zGFd2h4dfILmtIf4=s48-c-k-c0x00ffffff-no-rj',\n",
       "   'authorChannelUrl': 'http://www.youtube.com/@Joseph_14441',\n",
       "   'authorChannelId': {'value': 'UCnpT84Prp_JkLJWiI1VlEdQ'},\n",
       "   'canRate': True,\n",
       "   'viewerRating': 'none',\n",
       "   'likeCount': 0,\n",
       "   'publishedAt': '2024-07-25T00:08:09Z',\n",
       "   'updatedAt': '2024-07-25T00:08:09Z'}},\n",
       " {'kind': 'youtube#comment',\n",
       "  'etag': 'f-6JX6BHT5gC6ycsq4EisPX_cnA',\n",
       "  'id': 'UgymsICNSNQ-MzMaDkR4AaABAg.A6I-3ENEgb1A6IQWMvONzN',\n",
       "  'snippet': {'channelId': 'UC-lHJZR3Gqxm24_Vd_AJ5Yw',\n",
       "   'textDisplay': 'Ahh the evil water sheep arc',\n",
       "   'textOriginal': 'Ahh the evil water sheep arc',\n",
       "   'parentId': 'UgymsICNSNQ-MzMaDkR4AaABAg',\n",
       "   'authorDisplayName': '@safwanhashim4448',\n",
       "   'authorProfileImageUrl': 'https://yt3.ggpht.com/ytc/AIdro_m7UbI18KikeZVqYL57zsTlDqSs8PUKyEzkYLV__wZTXi0=s48-c-k-c0x00ffffff-no-rj',\n",
       "   'authorChannelUrl': 'http://www.youtube.com/@safwanhashim4448',\n",
       "   'authorChannelId': {'value': 'UCYVIjYG-JmJNQ0uXtsWauDQ'},\n",
       "   'canRate': True,\n",
       "   'viewerRating': 'none',\n",
       "   'likeCount': 11,\n",
       "   'publishedAt': '2024-07-25T01:13:29Z',\n",
       "   'updatedAt': '2024-07-25T01:13:29Z'}},\n",
       " {'kind': 'youtube#comment',\n",
       "  'etag': 'CxRHpC04KFbns08giTClPSK4UFA',\n",
       "  'id': 'UgymsICNSNQ-MzMaDkR4AaABAg.A6I-3ENEgb1A6ITy5t7ZKu',\n",
       "  'snippet': {'channelId': 'UC-lHJZR3Gqxm24_Vd_AJ5Yw',\n",
       "   'textDisplay': 'The water sheep story arc was insane',\n",
       "   'textOriginal': 'The water sheep story arc was insane',\n",
       "   'parentId': 'UgymsICNSNQ-MzMaDkR4AaABAg',\n",
       "   'authorDisplayName': '@maridiancomer7635',\n",
       "   'authorProfileImageUrl': 'https://yt3.ggpht.com/eLAB-ykmSESaUbuRX7U42YsXQNbf1jdcWnG1FGV9FK1I3Y0ppb1Iyj0XOdsB8XmnWs8-5MCHkQ=s48-c-k-c0x00ffffff-no-rj',\n",
       "   'authorChannelUrl': 'http://www.youtube.com/@maridiancomer7635',\n",
       "   'authorChannelId': {'value': 'UCm2N2HUfpJDnNjSbtec6NXg'},\n",
       "   'canRate': True,\n",
       "   'viewerRating': 'none',\n",
       "   'likeCount': 2,\n",
       "   'publishedAt': '2024-07-25T01:43:38Z',\n",
       "   'updatedAt': '2024-07-25T01:43:38Z'}},\n",
       " {'kind': 'youtube#comment',\n",
       "  'etag': 'rQPB8yYwIRzgn1KIhQGCTZmWAUU',\n",
       "  'id': 'UgymsICNSNQ-MzMaDkR4AaABAg.A6I-3ENEgb1A6Iawkk_0cm',\n",
       "  'snippet': {'channelId': 'UC-lHJZR3Gqxm24_Vd_AJ5Yw',\n",
       "   'textDisplay': 'Always wondered what became of the council',\n",
       "   'textOriginal': 'Always wondered what became of the council',\n",
       "   'parentId': 'UgymsICNSNQ-MzMaDkR4AaABAg',\n",
       "   'authorDisplayName': '@ginwar7097',\n",
       "   'authorProfileImageUrl': 'https://yt3.ggpht.com/ytc/AIdro_mowvq8zP4vGS_c5MKBVO3dbm_23C6aFsoVwK7sMIHsO5A=s48-c-k-c0x00ffffff-no-rj',\n",
       "   'authorChannelUrl': 'http://www.youtube.com/@ginwar7097',\n",
       "   'authorChannelId': {'value': 'UCOVBy2Dv0PP-5PJcsb2jNhQ'},\n",
       "   'canRate': True,\n",
       "   'viewerRating': 'none',\n",
       "   'likeCount': 0,\n",
       "   'publishedAt': '2024-07-25T02:53:21Z',\n",
       "   'updatedAt': '2024-07-25T02:53:21Z'}}]"
      ]
     },
     "execution_count": 35,
     "metadata": {},
     "output_type": "execute_result"
    }
   ],
   "source": [
    "video_comments_replies = get_comments(youtube, 'UgymsICNSNQ-MzMaDkR4AaABAg')\n",
    "video_comments_replies"
   ]
  },
  {
   "cell_type": "code",
   "execution_count": 32,
   "metadata": {},
   "outputs": [],
   "source": [
    "comment_dict_list = []\n",
    "for i in range(len(video_comment_threads)):\n",
    "    comment_dict = {\n",
    "        'comment': video_comment_threads[i]['snippet']['topLevelComment']['snippet']['textDisplay'],\n",
    "        #'username': video_comment_threads[i]['snippet']['topLevelComment']['snippet']['authorDisplayName'],\n",
    "        #'viewer_rating': video_comment_threads[i]['snippet']['topLevelComment']['snippet']['viewerRating'],\n",
    "        'comment_likes': video_comment_threads[i]['snippet']['topLevelComment']['snippet']['likeCount'],\n",
    "        #'comment_datetime': video_comment_threads[i]['snippet']['topLevelComment']['snippet']['updatedAt']\n",
    "    }\n",
    "    comment_dict_list.append(comment_dict)"
   ]
  },
  {
   "cell_type": "code",
   "execution_count": 33,
   "metadata": {},
   "outputs": [
    {
     "data": {
      "text/plain": [
       "[{'comment': 'Intentionally unaliving his axolotl and then crying about how everyone around him is dying is reminding me of *his strange relationship with Water Sheep*',\n",
       "  'comment_likes': 585},\n",
       " {'comment': '\"That axolotl was like my grandfather\"\\n\\n- PewDiePie 2024',\n",
       "  'comment_likes': 2173},\n",
       " {'comment': \"I love how he's able to make a story out of the game, it's very engaging\",\n",
       "  'comment_likes': 1508},\n",
       " {'comment': \"R.I.P Svenlina\\n\\nIt's weird how Felix started destroying everything after she died somethings never change.\",\n",
       "  'comment_likes': 374},\n",
       " {'comment': 'Rip Svenlina, she was like a mother to me. I loved her like my daughter.',\n",
       "  'comment_likes': 3911},\n",
       " {'comment': \"I love how Swenlina's music kept resuming at random, her spirit didn't want to leave him.\",\n",
       "  'comment_likes': 234},\n",
       " {'comment': 'Felix making friends with a random 12 year old on Roblox for an ad is the funniest thing ive seen in a while',\n",
       "  'comment_likes': 111},\n",
       " {'comment': \"I can't wait for him to discover different types of wolves in the game.\",\n",
       "  'comment_likes': 1615},\n",
       " {'comment': 'Watching pewds play mine craft at the end of the day is like a cherry on top',\n",
       "  'comment_likes': 483},\n",
       " {'comment': \"RIP Svenlina, \\n\\nshe fell then TP'd back at top and the momentum was retained so big damage go boom\",\n",
       "  'comment_likes': 49},\n",
       " {'comment': 'i’m so happy felix is playing minecraft again, the series is unforgettable!',\n",
       "  'comment_likes': 391},\n",
       " {'comment': '\"If your friends jumped off a bridge, would you too?\"\\n\\n8:27',\n",
       "  'comment_likes': 255},\n",
       " {'comment': 'Sven: survives countless creeper explosions within a one block radius and various other near death experiences\\n\\nSvenlina: *falls four blocks*',\n",
       "  'comment_likes': 57},\n",
       " {'comment': '1:44 “Grow strong and defeat me one day” I can see that tying into water sheep lore later on',\n",
       "  'comment_likes': 29},\n",
       " {'comment': 'Rip Svenlina\\nGone too soon ❤', 'comment_likes': 989},\n",
       " {'comment': 'Now, that was messed up', 'comment_likes': 219},\n",
       " {'comment': 'The boat jump sequence made a man shed tears today',\n",
       "  'comment_likes': 68},\n",
       " {'comment': 'pewdiepie making me want to start my 2 week minecraft phase',\n",
       "  'comment_likes': 28},\n",
       " {'comment': 'Rip svenlina\\nHe was like a father to me', 'comment_likes': 105},\n",
       " {'comment': 'Literally nothing makes me happier than Pewds playing Minecraft again',\n",
       "  'comment_likes': 44}]"
      ]
     },
     "execution_count": 33,
     "metadata": {},
     "output_type": "execute_result"
    }
   ],
   "source": [
    "comment_dict_list"
   ]
  },
  {
   "cell_type": "code",
   "execution_count": 11,
   "metadata": {},
   "outputs": [
    {
     "data": {
      "text/plain": [
       "{'video_datetime': '2024-07-23T13:00:29Z',\n",
       " 'video_title': 'Joker: Folie À Deux | Official Trailer',\n",
       " 'channel_name': 'Warner Bros. Pictures',\n",
       " 'video_category': '1',\n",
       " 'video_length': 'PT2M51S',\n",
       " 'view_count': '13230834',\n",
       " 'like_count': '396517'}"
      ]
     },
     "execution_count": 11,
     "metadata": {},
     "output_type": "execute_result"
    }
   ],
   "source": [
    "def get_video_info(video_id):\n",
    "    # Build the YouTube service\n",
    "    youtube = build('youtube', 'v3', developerKey=api_key)\n",
    "    \n",
    "    # Request video information\n",
    "    request = youtube.videos().list(\n",
    "        part=\"snippet,contentDetails,statistics\",\n",
    "        id=video_id\n",
    "    )\n",
    "    response = request.execute()\n",
    "\n",
    "    response_dict = {\n",
    "        'video_datetime': response['items'][0]['snippet']['publishedAt'],\n",
    "        'video_title': response['items'][0]['snippet']['title'],\n",
    "        'channel_name': response['items'][0]['snippet']['channelTitle'],\n",
    "        'video_category': response['items'][0]['snippet']['categoryId'],\n",
    "        'video_length': response['items'][0]['contentDetails']['duration'],\n",
    "        'view_count': response['items'][0]['statistics']['viewCount'],\n",
    "        'like_count': response['items'][0]['statistics']['likeCount']\n",
    "    }\n",
    "    \n",
    "    return response_dict\n",
    "\n",
    "video_id = \"_OKAwz2MsJs\"\n",
    "get_video_info(video_id)"
   ]
  },
  {
   "cell_type": "code",
   "execution_count": null,
   "metadata": {},
   "outputs": [],
   "source": []
  }
 ],
 "metadata": {
  "kernelspec": {
   "display_name": "Python 3 (ipykernel)",
   "language": "python",
   "name": "python3"
  },
  "language_info": {
   "codemirror_mode": {
    "name": "ipython",
    "version": 3
   },
   "file_extension": ".py",
   "mimetype": "text/x-python",
   "name": "python",
   "nbconvert_exporter": "python",
   "pygments_lexer": "ipython3",
   "version": "3.11.1"
  }
 },
 "nbformat": 4,
 "nbformat_minor": 4
}
